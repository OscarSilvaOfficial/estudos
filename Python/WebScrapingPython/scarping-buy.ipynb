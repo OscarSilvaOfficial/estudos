{
 "cells": [
  {
   "cell_type": "code",
   "execution_count": 90,
   "metadata": {},
   "outputs": [],
   "source": [
    "import time\n",
    "import os\n",
    "import re\n",
    "from selenium import webdriver\n",
    "from selenium.webdriver import Chrome\n",
    "from selenium.webdriver.chrome.options import Options\n",
    "import pandas as pd\n",
    "from selenium.webdriver.common.by import By\n",
    "from selenium.webdriver.common.keys import Keys"
   ]
  },
  {
   "cell_type": "code",
   "execution_count": 92,
   "metadata": {},
   "outputs": [],
   "source": [
    "# Instanciando Web Driver e opções\n",
    "option = Options()\n",
    "option.headless = True\n",
    "driver = Chrome(options=option)\n",
    "driver.maximize_window()\n",
    "site = driver.get('https://www.google.com/shopping')"
   ]
  },
  {
   "cell_type": "code",
   "execution_count": 93,
   "metadata": {},
   "outputs": [],
   "source": [
    "# Inserindo dados na pesquisa\n",
    "pesquisa = driver.find_element_by_xpath('//*[@id=\"tsf\"]/div[2]/div[1]/div[1]/div/div[2]/input')\n",
    "pesquisa.send_keys('notebook')\n",
    "pesquisa.send_keys(Keys.ENTER)\n",
    "time.sleep(2)"
   ]
  },
  {
   "cell_type": "code",
   "execution_count": 94,
   "metadata": {},
   "outputs": [],
   "source": [
    "# Coleta do resultado de toda a 1° tabela\n",
    "row = driver.find_element(By.XPATH, '//*[@id=\"rso\"]/div/div[2]/div[2]')\n",
    "rows = row.find_elements(By.CLASS_NAME, 'sh-dlr__list-result')\n",
    "titles = row.find_elements(By.TAG_NAME, 'h3')\n",
    "prices = row.find_elements(By.CLASS_NAME, 'Nr22bf')\n",
    "models = driver.find_elements_by_xpath('//*[@id=\"leftnavc\"]/div/div/div[3]/div[2]/div/div')"
   ]
  },
  {
   "cell_type": "code",
   "execution_count": 95,
   "metadata": {},
   "outputs": [],
   "source": [
    "# For para puxar a descrição\n",
    "desc = []\n",
    "for row in rows:\n",
    "    desc.append(row.text)"
   ]
  },
  {
   "cell_type": "code",
   "execution_count": 96,
   "metadata": {},
   "outputs": [],
   "source": [
    "# For para puxar o titulo\n",
    "name = []\n",
    "for row in titles:\n",
    "    name.append(row.text)"
   ]
  },
  {
   "cell_type": "code",
   "execution_count": 97,
   "metadata": {},
   "outputs": [],
   "source": [
    "# For para puxar o Preço\n",
    "price = []\n",
    "for row in prices:\n",
    "    price.append(row.text) # .extract(r'(R[$] \\d[.]?\\d{2}?\\d?[,]?\\d{2}?)'"
   ]
  },
  {
   "cell_type": "code",
   "execution_count": 98,
   "metadata": {},
   "outputs": [],
   "source": [
    "model = []\n",
    "for row in models:\n",
    "    model.append(row.text.split('\\n'))\n",
    "\n",
    "model = model[0:][0] "
   ]
  },
  {
   "cell_type": "code",
   "execution_count": 99,
   "metadata": {},
   "outputs": [],
   "source": [
    "# Criação do Dataframe\n",
    "df = pd.DataFrame({\n",
    "    \n",
    "        'Nome': name,\n",
    "        'Preco': price,\n",
    "        #'Modelo': model\n",
    "    \n",
    "        })"
   ]
  },
  {
   "cell_type": "code",
   "execution_count": 100,
   "metadata": {},
   "outputs": [],
   "source": [
    "# Padronização de Campos\n",
    "df['Nome'] = df.Nome.str.replace('Notebook', ' ')\n",
    "df['Preco'] = df.Preco.str.extract(r'(R[$] \\d[.]?\\d{2}?\\d?[,]?\\d{2}?)')"
   ]
  },
  {
   "cell_type": "code",
   "execution_count": 101,
   "metadata": {},
   "outputs": [
    {
     "output_type": "execute_result",
     "data": {
      "text/plain": "                                                 Nome        Preco\n0     Lenovo Ultrafino ideapad S145 i5-8265U 12GB ...  R$ 3.599,00\n1     Samsung Dual Core 4GB 500GB Tela 15.6 Window...  R$ 2.299,00\n2     Acer Aspire 3 A315-34-C5EY Intel Celeron - D...  R$ 2.184,05\n3     Gamer Acer Nitro 5 AN515-54-58CL Intel - Cor...  R$ 4.939,05\n4     Acer Aspire 3 A315-54K-31E8 Intel Core i3 - ...  R$ 2.849,05\n5     Gamer Acer An515-52bw Ci5 8gb 1tb 1050 15.6 ...  R$ 1.164,56\n6     Acer Aspire 3 A315-53-30RZ Intel Core I3 8GB...    R$ 999,00\n7     Intel Celeron 4GB 500GB Lenovo S145-15IGM 15...  R$ 2.089,00\n8     Vaio Fe 14 - B0721H Intel Core i3 4GB - 256G...  R$ 3.099,00\n9     Lenovo Ideapad S145 81S9000LBR Intel Core - ...  R$ 3.704,05\n10    Acer Aspire 3 A315-53-p884 Pentium Gold 4gb ...    R$ 976,56\n11    Acer Aspire 3 A315-54k-31e8 I3 4gb Ram 1tb H...  R$ 1.079,79\n12    Positivo Quad Core 4GB 64GB SSD Tela 14 Wind...  R$ 1.699,00\n13    Vaio C14 B0111L Intel Core I3 4GB 1TB HD Tel...  R$ 2.702,09\n14    Intel Core I5 7200u 8gb 1tb 15,6' Windows 10...  R$ 1.895,44\n15    Asus Dual Core 4GB 500GB Tela 15.6 Windows 1...  R$ 2.299,00\n16    Acer A315-51-30V4 8a Intel Core 8 i3 4GB 1TB...  R$ 2.774,99",
      "text/html": "<div>\n<style scoped>\n    .dataframe tbody tr th:only-of-type {\n        vertical-align: middle;\n    }\n\n    .dataframe tbody tr th {\n        vertical-align: top;\n    }\n\n    .dataframe thead th {\n        text-align: right;\n    }\n</style>\n<table border=\"1\" class=\"dataframe\">\n  <thead>\n    <tr style=\"text-align: right;\">\n      <th></th>\n      <th>Nome</th>\n      <th>Preco</th>\n    </tr>\n  </thead>\n  <tbody>\n    <tr>\n      <th>0</th>\n      <td>Lenovo Ultrafino ideapad S145 i5-8265U 12GB ...</td>\n      <td>R$ 3.599,00</td>\n    </tr>\n    <tr>\n      <th>1</th>\n      <td>Samsung Dual Core 4GB 500GB Tela 15.6 Window...</td>\n      <td>R$ 2.299,00</td>\n    </tr>\n    <tr>\n      <th>2</th>\n      <td>Acer Aspire 3 A315-34-C5EY Intel Celeron - D...</td>\n      <td>R$ 2.184,05</td>\n    </tr>\n    <tr>\n      <th>3</th>\n      <td>Gamer Acer Nitro 5 AN515-54-58CL Intel - Cor...</td>\n      <td>R$ 4.939,05</td>\n    </tr>\n    <tr>\n      <th>4</th>\n      <td>Acer Aspire 3 A315-54K-31E8 Intel Core i3 - ...</td>\n      <td>R$ 2.849,05</td>\n    </tr>\n    <tr>\n      <th>5</th>\n      <td>Gamer Acer An515-52bw Ci5 8gb 1tb 1050 15.6 ...</td>\n      <td>R$ 1.164,56</td>\n    </tr>\n    <tr>\n      <th>6</th>\n      <td>Acer Aspire 3 A315-53-30RZ Intel Core I3 8GB...</td>\n      <td>R$ 999,00</td>\n    </tr>\n    <tr>\n      <th>7</th>\n      <td>Intel Celeron 4GB 500GB Lenovo S145-15IGM 15...</td>\n      <td>R$ 2.089,00</td>\n    </tr>\n    <tr>\n      <th>8</th>\n      <td>Vaio Fe 14 - B0721H Intel Core i3 4GB - 256G...</td>\n      <td>R$ 3.099,00</td>\n    </tr>\n    <tr>\n      <th>9</th>\n      <td>Lenovo Ideapad S145 81S9000LBR Intel Core - ...</td>\n      <td>R$ 3.704,05</td>\n    </tr>\n    <tr>\n      <th>10</th>\n      <td>Acer Aspire 3 A315-53-p884 Pentium Gold 4gb ...</td>\n      <td>R$ 976,56</td>\n    </tr>\n    <tr>\n      <th>11</th>\n      <td>Acer Aspire 3 A315-54k-31e8 I3 4gb Ram 1tb H...</td>\n      <td>R$ 1.079,79</td>\n    </tr>\n    <tr>\n      <th>12</th>\n      <td>Positivo Quad Core 4GB 64GB SSD Tela 14 Wind...</td>\n      <td>R$ 1.699,00</td>\n    </tr>\n    <tr>\n      <th>13</th>\n      <td>Vaio C14 B0111L Intel Core I3 4GB 1TB HD Tel...</td>\n      <td>R$ 2.702,09</td>\n    </tr>\n    <tr>\n      <th>14</th>\n      <td>Intel Core I5 7200u 8gb 1tb 15,6' Windows 10...</td>\n      <td>R$ 1.895,44</td>\n    </tr>\n    <tr>\n      <th>15</th>\n      <td>Asus Dual Core 4GB 500GB Tela 15.6 Windows 1...</td>\n      <td>R$ 2.299,00</td>\n    </tr>\n    <tr>\n      <th>16</th>\n      <td>Acer A315-51-30V4 8a Intel Core 8 i3 4GB 1TB...</td>\n      <td>R$ 2.774,99</td>\n    </tr>\n  </tbody>\n</table>\n</div>"
     },
     "metadata": {},
     "execution_count": 101
    }
   ],
   "source": [
    "df"
   ]
  },
  {
   "cell_type": "code",
   "execution_count": 102,
   "metadata": {},
   "outputs": [],
   "source": [
    "df.to_excel('output.xlsx', encoding='UTF-8', index=False, )"
   ]
  }
 ],
 "metadata": {
  "kernelspec": {
   "display_name": "Python 3.7.6 64-bit",
   "language": "python",
   "name": "python_defaultSpec_1594681533148"
  },
  "language_info": {
   "codemirror_mode": {
    "name": "ipython",
    "version": 3
   },
   "file_extension": ".py",
   "mimetype": "text/x-python",
   "name": "python",
   "nbconvert_exporter": "python",
   "pygments_lexer": "ipython3",
   "version": "3.7.6-final"
  }
 },
 "nbformat": 4,
 "nbformat_minor": 4
}